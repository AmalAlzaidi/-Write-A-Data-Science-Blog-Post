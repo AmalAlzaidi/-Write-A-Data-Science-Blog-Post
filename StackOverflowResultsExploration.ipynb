{
 "cells": [
  {
   "cell_type": "markdown",
   "metadata": {},
   "source": [
    "## Project: Write A Data Science Blog Post"
   ]
  },
  {
   "cell_type": "markdown",
   "metadata": {},
   "source": [
    "##### In this project I will choose dataset and pose at least three quesstions related to business or real-world applications. "
   ]
  },
  {
   "cell_type": "markdown",
   "metadata": {},
   "source": [
    "**First Step : pick a dataset.**"
   ]
  },
  {
   "cell_type": "markdown",
   "metadata": {},
   "source": [
    "In this project I will choose the 2019 Stack Overflow results."
   ]
  },
  {
   "cell_type": "code",
   "execution_count": 1,
   "metadata": {},
   "outputs": [],
   "source": [
    "# Import libraries\n",
    "import numpy as np\n",
    "import pandas as pd\n",
    "import seaborn as sb\n",
    "import matplotlib.pyplot as plt\n",
    "import warnings\n",
    "warnings.filterwarnings(\"ignore\")\n",
    "\n",
    "# magic word for producing visualizations in notebook\n",
    "%matplotlib inline"
   ]
  },
  {
   "cell_type": "code",
   "execution_count": 2,
   "metadata": {},
   "outputs": [],
   "source": [
    "# Load in survey results data\n",
    "df = pd.read_csv('survey_results_public2.csv')"
   ]
  },
  {
   "cell_type": "code",
   "execution_count": 3,
   "metadata": {},
   "outputs": [],
   "source": [
    "# Load in data schema \n",
    "schema = pd.read_csv('survey_results_schema.csv')"
   ]
  },
  {
   "cell_type": "code",
   "execution_count": 4,
   "metadata": {},
   "outputs": [
    {
     "data": {
      "text/plain": [
       "(88883, 85)"
      ]
     },
     "execution_count": 4,
     "metadata": {},
     "output_type": "execute_result"
    }
   ],
   "source": [
    "# Check the structure of the data\n",
    "df.shape"
   ]
  },
  {
   "cell_type": "code",
   "execution_count": 5,
   "metadata": {},
   "outputs": [
    {
     "data": {
      "text/plain": [
       "Index(['Respondent', 'MainBranch', 'Hobbyist', 'OpenSourcer', 'OpenSource',\n",
       "       'Employment', 'Country', 'Student', 'EdLevel', 'UndergradMajor',\n",
       "       'EduOther', 'OrgSize', 'DevType', 'YearsCode', 'Age1stCode',\n",
       "       'YearsCodePro', 'CareerSat', 'JobSat', 'MgrIdiot', 'MgrMoney',\n",
       "       'MgrWant', 'JobSeek', 'LastHireDate', 'LastInt', 'FizzBuzz',\n",
       "       'JobFactors', 'ResumeUpdate', 'CurrencySymbol', 'CurrencyDesc',\n",
       "       'CompTotal', 'CompFreq', 'ConvertedComp', 'WorkWeekHrs', 'WorkPlan',\n",
       "       'WorkChallenge', 'WorkRemote', 'WorkLoc', 'ImpSyn', 'CodeRev',\n",
       "       'CodeRevHrs', 'UnitTests', 'PurchaseHow', 'PurchaseWhat',\n",
       "       'LanguageWorkedWith', 'LanguageDesireNextYear', 'DatabaseWorkedWith',\n",
       "       'DatabaseDesireNextYear', 'PlatformWorkedWith',\n",
       "       'PlatformDesireNextYear', 'WebFrameWorkedWith',\n",
       "       'WebFrameDesireNextYear', 'MiscTechWorkedWith',\n",
       "       'MiscTechDesireNextYear', 'DevEnviron', 'OpSys', 'Containers',\n",
       "       'BlockchainOrg', 'BlockchainIs', 'BetterLife', 'ITperson', 'OffOn',\n",
       "       'SocialMedia', 'Extraversion', 'ScreenName', 'SOVisit1st',\n",
       "       'SOVisitFreq', 'SOVisitTo', 'SOFindAnswer', 'SOTimeSaved',\n",
       "       'SOHowMuchTime', 'SOAccount', 'SOPartFreq', 'SOJobs', 'EntTeams',\n",
       "       'SOComm', 'WelcomeChange', 'SONewContent', 'Age', 'Gender', 'Trans',\n",
       "       'Sexuality', 'Ethnicity', 'Dependents', 'SurveyLength', 'SurveyEase'],\n",
       "      dtype='object')"
      ]
     },
     "execution_count": 5,
     "metadata": {},
     "output_type": "execute_result"
    }
   ],
   "source": [
    "# Check columns names\n",
    "df.columns"
   ]
  },
  {
   "cell_type": "code",
   "execution_count": 6,
   "metadata": {},
   "outputs": [
    {
     "data": {
      "text/plain": [
       "Respondent            0\n",
       "MainBranch          552\n",
       "Hobbyist              0\n",
       "OpenSourcer           0\n",
       "OpenSource         2041\n",
       "Employment         1702\n",
       "Country             132\n",
       "Student            1869\n",
       "EdLevel            2493\n",
       "UndergradMajor    13269\n",
       "EduOther           4623\n",
       "OrgSize           17092\n",
       "DevType            7548\n",
       "YearsCode           945\n",
       "Age1stCode         1249\n",
       "YearsCodePro      14552\n",
       "CareerSat         16036\n",
       "JobSat            17895\n",
       "MgrIdiot          27724\n",
       "MgrMoney          27726\n",
       "MgrWant           27651\n",
       "JobSeek            8328\n",
       "LastHireDate       9029\n",
       "LastInt           21728\n",
       "FizzBuzz          17539\n",
       "JobFactors         9512\n",
       "ResumeUpdate      11006\n",
       "CurrencySymbol    17491\n",
       "CurrencyDesc      17491\n",
       "CompTotal         32938\n",
       "                  ...  \n",
       "Containers         3517\n",
       "BlockchainOrg     40708\n",
       "BlockchainIs      28718\n",
       "BetterLife         2614\n",
       "ITperson           1742\n",
       "OffOn              2220\n",
       "SocialMedia        4446\n",
       "Extraversion       1578\n",
       "ScreenName         8397\n",
       "SOVisit1st         5006\n",
       "SOVisitFreq         620\n",
       "SOVisitTo           797\n",
       "SOFindAnswer       1067\n",
       "SOTimeSaved        2539\n",
       "SOHowMuchTime     20505\n",
       "SOAccount          1055\n",
       "SOPartFreq        14191\n",
       "SOJobs              817\n",
       "EntTeams           1042\n",
       "SOComm              752\n",
       "WelcomeChange      3028\n",
       "SONewContent      19323\n",
       "Age                9673\n",
       "Gender             3477\n",
       "Trans              5276\n",
       "Sexuality         12736\n",
       "Ethnicity         12215\n",
       "Dependents         5824\n",
       "SurveyLength       1899\n",
       "SurveyEase         1802\n",
       "Length: 85, dtype: int64"
      ]
     },
     "execution_count": 6,
     "metadata": {},
     "output_type": "execute_result"
    }
   ],
   "source": [
    "# Assess missing data\n",
    "df.isnull().sum()"
   ]
  },
  {
   "cell_type": "code",
   "execution_count": 7,
   "metadata": {},
   "outputs": [
    {
     "data": {
      "text/plain": [
       "[['Which of the following options best describes you today? Here, by \"developer\" we mean \"someone who writes code.\"'],\n",
       " ['In which country do you currently reside?'],\n",
       " ['Which of the following best describes the highest level of formal education that you’ve completed?'],\n",
       " ['What was your main or most important field of study?'],\n",
       " ['Salary converted to annual USD salaries using the exchange rate on 2019-02-01, assuming 12 working months and 50 working weeks.'],\n",
       " ['Overall, how satisfied are you with your career thus far?']]"
      ]
     },
     "execution_count": 7,
     "metadata": {},
     "output_type": "execute_result"
    }
   ],
   "source": [
    "#Check the description of the columns\n",
    "schema.set_index('Column').loc[['MainBranch', 'Country' , 'EdLevel', 'UndergradMajor', 'ConvertedComp', 'CareerSat']].values.tolist()"
   ]
  },
  {
   "cell_type": "markdown",
   "metadata": {},
   "source": [
    "**Pose Questions:**"
   ]
  },
  {
   "cell_type": "markdown",
   "metadata": {},
   "source": [
    "- How much does a software developer make?\n",
    "- What is the developer salary by level of education?\n",
    "- Which country has the highest job satisfaction?\n",
    "- What is the average salary for devlopers KSA?"
   ]
  },
  {
   "cell_type": "markdown",
   "metadata": {},
   "source": [
    "### Prepare data:\n"
   ]
  },
  {
   "cell_type": "code",
   "execution_count": 8,
   "metadata": {},
   "outputs": [],
   "source": [
    "# Extract  necessary columns to answer the questions.\n",
    "sub_df = df[['MainBranch', 'Country' , 'EdLevel', 'UndergradMajor', 'ConvertedComp', 'CareerSat']]"
   ]
  },
  {
   "cell_type": "code",
   "execution_count": 9,
   "metadata": {},
   "outputs": [
    {
     "data": {
      "text/html": [
       "<div>\n",
       "<style scoped>\n",
       "    .dataframe tbody tr th:only-of-type {\n",
       "        vertical-align: middle;\n",
       "    }\n",
       "\n",
       "    .dataframe tbody tr th {\n",
       "        vertical-align: top;\n",
       "    }\n",
       "\n",
       "    .dataframe thead th {\n",
       "        text-align: right;\n",
       "    }\n",
       "</style>\n",
       "<table border=\"1\" class=\"dataframe\">\n",
       "  <thead>\n",
       "    <tr style=\"text-align: right;\">\n",
       "      <th></th>\n",
       "      <th>MainBranch</th>\n",
       "      <th>Country</th>\n",
       "      <th>EdLevel</th>\n",
       "      <th>UndergradMajor</th>\n",
       "      <th>ConvertedComp</th>\n",
       "      <th>CareerSat</th>\n",
       "    </tr>\n",
       "  </thead>\n",
       "  <tbody>\n",
       "    <tr>\n",
       "      <th>0</th>\n",
       "      <td>I am a student who is learning to code</td>\n",
       "      <td>United Kingdom</td>\n",
       "      <td>Primary/elementary school</td>\n",
       "      <td>NaN</td>\n",
       "      <td>NaN</td>\n",
       "      <td>NaN</td>\n",
       "    </tr>\n",
       "    <tr>\n",
       "      <th>1</th>\n",
       "      <td>I am a student who is learning to code</td>\n",
       "      <td>Bosnia and Herzegovina</td>\n",
       "      <td>Secondary school (e.g. American high school, G...</td>\n",
       "      <td>NaN</td>\n",
       "      <td>NaN</td>\n",
       "      <td>NaN</td>\n",
       "    </tr>\n",
       "    <tr>\n",
       "      <th>2</th>\n",
       "      <td>I am not primarily a developer, but I write co...</td>\n",
       "      <td>Thailand</td>\n",
       "      <td>Bachelor’s degree (BA, BS, B.Eng., etc.)</td>\n",
       "      <td>Web development or web design</td>\n",
       "      <td>8820.0</td>\n",
       "      <td>Slightly satisfied</td>\n",
       "    </tr>\n",
       "    <tr>\n",
       "      <th>3</th>\n",
       "      <td>I am a developer by profession</td>\n",
       "      <td>United States</td>\n",
       "      <td>Bachelor’s degree (BA, BS, B.Eng., etc.)</td>\n",
       "      <td>Computer science, computer engineering, or sof...</td>\n",
       "      <td>61000.0</td>\n",
       "      <td>Very satisfied</td>\n",
       "    </tr>\n",
       "    <tr>\n",
       "      <th>4</th>\n",
       "      <td>I am a developer by profession</td>\n",
       "      <td>Ukraine</td>\n",
       "      <td>Bachelor’s degree (BA, BS, B.Eng., etc.)</td>\n",
       "      <td>Computer science, computer engineering, or sof...</td>\n",
       "      <td>NaN</td>\n",
       "      <td>Very dissatisfied</td>\n",
       "    </tr>\n",
       "  </tbody>\n",
       "</table>\n",
       "</div>"
      ],
      "text/plain": [
       "                                          MainBranch                 Country  \\\n",
       "0             I am a student who is learning to code          United Kingdom   \n",
       "1             I am a student who is learning to code  Bosnia and Herzegovina   \n",
       "2  I am not primarily a developer, but I write co...                Thailand   \n",
       "3                     I am a developer by profession           United States   \n",
       "4                     I am a developer by profession                 Ukraine   \n",
       "\n",
       "                                             EdLevel  \\\n",
       "0                          Primary/elementary school   \n",
       "1  Secondary school (e.g. American high school, G...   \n",
       "2           Bachelor’s degree (BA, BS, B.Eng., etc.)   \n",
       "3           Bachelor’s degree (BA, BS, B.Eng., etc.)   \n",
       "4           Bachelor’s degree (BA, BS, B.Eng., etc.)   \n",
       "\n",
       "                                      UndergradMajor  ConvertedComp  \\\n",
       "0                                                NaN            NaN   \n",
       "1                                                NaN            NaN   \n",
       "2                      Web development or web design         8820.0   \n",
       "3  Computer science, computer engineering, or sof...        61000.0   \n",
       "4  Computer science, computer engineering, or sof...            NaN   \n",
       "\n",
       "            CareerSat  \n",
       "0                 NaN  \n",
       "1                 NaN  \n",
       "2  Slightly satisfied  \n",
       "3      Very satisfied  \n",
       "4   Very dissatisfied  "
      ]
     },
     "execution_count": 9,
     "metadata": {},
     "output_type": "execute_result"
    }
   ],
   "source": [
    "sub_df.head()"
   ]
  },
  {
   "cell_type": "code",
   "execution_count": 10,
   "metadata": {},
   "outputs": [],
   "source": [
    "# Change 'ConvertedComp' name to AnnualSalary\n",
    "sub_df.rename(columns={\"ConvertedComp\": \"AnnualSalary\"}, inplace = True)"
   ]
  },
  {
   "cell_type": "code",
   "execution_count": 11,
   "metadata": {},
   "outputs": [
    {
     "data": {
      "text/html": [
       "<div>\n",
       "<style scoped>\n",
       "    .dataframe tbody tr th:only-of-type {\n",
       "        vertical-align: middle;\n",
       "    }\n",
       "\n",
       "    .dataframe tbody tr th {\n",
       "        vertical-align: top;\n",
       "    }\n",
       "\n",
       "    .dataframe thead th {\n",
       "        text-align: right;\n",
       "    }\n",
       "</style>\n",
       "<table border=\"1\" class=\"dataframe\">\n",
       "  <thead>\n",
       "    <tr style=\"text-align: right;\">\n",
       "      <th></th>\n",
       "      <th>MainBranch</th>\n",
       "      <th>Country</th>\n",
       "      <th>EdLevel</th>\n",
       "      <th>UndergradMajor</th>\n",
       "      <th>AnnualSalary</th>\n",
       "      <th>CareerSat</th>\n",
       "    </tr>\n",
       "  </thead>\n",
       "  <tbody>\n",
       "    <tr>\n",
       "      <th>0</th>\n",
       "      <td>I am a student who is learning to code</td>\n",
       "      <td>United Kingdom</td>\n",
       "      <td>Primary/elementary school</td>\n",
       "      <td>NaN</td>\n",
       "      <td>NaN</td>\n",
       "      <td>NaN</td>\n",
       "    </tr>\n",
       "    <tr>\n",
       "      <th>1</th>\n",
       "      <td>I am a student who is learning to code</td>\n",
       "      <td>Bosnia and Herzegovina</td>\n",
       "      <td>Secondary school (e.g. American high school, G...</td>\n",
       "      <td>NaN</td>\n",
       "      <td>NaN</td>\n",
       "      <td>NaN</td>\n",
       "    </tr>\n",
       "    <tr>\n",
       "      <th>2</th>\n",
       "      <td>I am not primarily a developer, but I write co...</td>\n",
       "      <td>Thailand</td>\n",
       "      <td>Bachelor’s degree (BA, BS, B.Eng., etc.)</td>\n",
       "      <td>Web development or web design</td>\n",
       "      <td>8820.0</td>\n",
       "      <td>Slightly satisfied</td>\n",
       "    </tr>\n",
       "    <tr>\n",
       "      <th>3</th>\n",
       "      <td>I am a developer by profession</td>\n",
       "      <td>United States</td>\n",
       "      <td>Bachelor’s degree (BA, BS, B.Eng., etc.)</td>\n",
       "      <td>Computer science, computer engineering, or sof...</td>\n",
       "      <td>61000.0</td>\n",
       "      <td>Very satisfied</td>\n",
       "    </tr>\n",
       "    <tr>\n",
       "      <th>4</th>\n",
       "      <td>I am a developer by profession</td>\n",
       "      <td>Ukraine</td>\n",
       "      <td>Bachelor’s degree (BA, BS, B.Eng., etc.)</td>\n",
       "      <td>Computer science, computer engineering, or sof...</td>\n",
       "      <td>NaN</td>\n",
       "      <td>Very dissatisfied</td>\n",
       "    </tr>\n",
       "  </tbody>\n",
       "</table>\n",
       "</div>"
      ],
      "text/plain": [
       "                                          MainBranch                 Country  \\\n",
       "0             I am a student who is learning to code          United Kingdom   \n",
       "1             I am a student who is learning to code  Bosnia and Herzegovina   \n",
       "2  I am not primarily a developer, but I write co...                Thailand   \n",
       "3                     I am a developer by profession           United States   \n",
       "4                     I am a developer by profession                 Ukraine   \n",
       "\n",
       "                                             EdLevel  \\\n",
       "0                          Primary/elementary school   \n",
       "1  Secondary school (e.g. American high school, G...   \n",
       "2           Bachelor’s degree (BA, BS, B.Eng., etc.)   \n",
       "3           Bachelor’s degree (BA, BS, B.Eng., etc.)   \n",
       "4           Bachelor’s degree (BA, BS, B.Eng., etc.)   \n",
       "\n",
       "                                      UndergradMajor  AnnualSalary  \\\n",
       "0                                                NaN           NaN   \n",
       "1                                                NaN           NaN   \n",
       "2                      Web development or web design        8820.0   \n",
       "3  Computer science, computer engineering, or sof...       61000.0   \n",
       "4  Computer science, computer engineering, or sof...           NaN   \n",
       "\n",
       "            CareerSat  \n",
       "0                 NaN  \n",
       "1                 NaN  \n",
       "2  Slightly satisfied  \n",
       "3      Very satisfied  \n",
       "4   Very dissatisfied  "
      ]
     },
     "execution_count": 11,
     "metadata": {},
     "output_type": "execute_result"
    }
   ],
   "source": [
    "sub_df.head()"
   ]
  },
  {
   "cell_type": "markdown",
   "metadata": {},
   "source": [
    "**Assess Missing Data**"
   ]
  },
  {
   "cell_type": "code",
   "execution_count": 12,
   "metadata": {},
   "outputs": [
    {
     "data": {
      "text/plain": [
       "MainBranch          552\n",
       "Country             132\n",
       "EdLevel            2493\n",
       "UndergradMajor    13269\n",
       "AnnualSalary      33060\n",
       "CareerSat         16036\n",
       "dtype: int64"
      ]
     },
     "execution_count": 12,
     "metadata": {},
     "output_type": "execute_result"
    }
   ],
   "source": [
    "#Check null values\n",
    "sub_df.isnull().sum()"
   ]
  },
  {
   "cell_type": "code",
   "execution_count": 13,
   "metadata": {},
   "outputs": [
    {
     "data": {
      "text/plain": [
       "MainBranch        0.993790\n",
       "Country           0.998515\n",
       "EdLevel           0.971952\n",
       "UndergradMajor    0.850714\n",
       "AnnualSalary      0.628050\n",
       "CareerSat         0.819583\n",
       "dtype: float64"
      ]
     },
     "execution_count": 13,
     "metadata": {},
     "output_type": "execute_result"
    }
   ],
   "source": [
    "# Data proportion in each column\n",
    "1 - sub_df.isnull().mean()"
   ]
  },
  {
   "cell_type": "code",
   "execution_count": 14,
   "metadata": {},
   "outputs": [
    {
     "data": {
      "text/plain": [
       "MainBranch          552\n",
       "Country             132\n",
       "EdLevel            1662\n",
       "UndergradMajor     8710\n",
       "AnnualSalary      33060\n",
       "CareerSat         16036\n",
       "dtype: int64"
      ]
     },
     "execution_count": 14,
     "metadata": {},
     "output_type": "execute_result"
    }
   ],
   "source": [
    "sub_df[sub_df['AnnualSalary'].isnull()].isnull().sum()"
   ]
  },
  {
   "cell_type": "code",
   "execution_count": 15,
   "metadata": {},
   "outputs": [],
   "source": [
    "# Drop missing values in 'ConvertedComp' column..\n",
    "sub_df.dropna(subset=['AnnualSalary'], axis = 0, inplace = True)"
   ]
  },
  {
   "cell_type": "code",
   "execution_count": 16,
   "metadata": {},
   "outputs": [
    {
     "data": {
      "text/plain": [
       "MainBranch        1.000000\n",
       "Country           1.000000\n",
       "EdLevel           0.985114\n",
       "UndergradMajor    0.918331\n",
       "AnnualSalary      1.000000\n",
       "CareerSat         1.000000\n",
       "dtype: float64"
      ]
     },
     "execution_count": 16,
     "metadata": {},
     "output_type": "execute_result"
    }
   ],
   "source": [
    "1 - sub_df.isnull().mean()"
   ]
  },
  {
   "cell_type": "code",
   "execution_count": 17,
   "metadata": {},
   "outputs": [],
   "source": [
    "# Drop rows with missing values..\n",
    "sub_df.dropna(axis=0, how='all', inplace = True) "
   ]
  },
  {
   "cell_type": "markdown",
   "metadata": {},
   "source": [
    "**Assess categorical variables**"
   ]
  },
  {
   "cell_type": "markdown",
   "metadata": {},
   "source": [
    "**Re-Encode Features**"
   ]
  },
  {
   "cell_type": "code",
   "execution_count": 18,
   "metadata": {},
   "outputs": [
    {
     "data": {
      "text/plain": [
       "I am a developer by profession                                                   50502\n",
       "I am not primarily a developer, but I write code sometimes as part of my work     5321\n",
       "Name: MainBranch, dtype: int64"
      ]
     },
     "execution_count": 18,
     "metadata": {},
     "output_type": "execute_result"
    }
   ],
   "source": [
    "sub_df['MainBranch'].value_counts()"
   ]
  },
  {
   "cell_type": "code",
   "execution_count": 19,
   "metadata": {},
   "outputs": [],
   "source": [
    "sub_df['MainBranch'].replace({'I am a developer by profession' : 'Developer', \n",
    "                              'I am not primarily a developer, but I write code sometimes as part of my work': 'Non-developer who sometimes writes code'}, inplace = True)"
   ]
  },
  {
   "cell_type": "code",
   "execution_count": 20,
   "metadata": {},
   "outputs": [
    {
     "data": {
      "text/plain": [
       "Developer                                  50502\n",
       "Non-developer who sometimes writes code     5321\n",
       "Name: MainBranch, dtype: int64"
      ]
     },
     "execution_count": 20,
     "metadata": {},
     "output_type": "execute_result"
    }
   ],
   "source": [
    "sub_df['MainBranch'].value_counts()"
   ]
  },
  {
   "cell_type": "code",
   "execution_count": 21,
   "metadata": {},
   "outputs": [
    {
     "data": {
      "image/png": "[encoded data removed]",
      "text/plain": [
       "<Figure size 432x288 with 1 Axes>"
      ]
     },
     "metadata": {
      "needs_background": "light"
     },
     "output_type": "display_data"
    }
   ],
   "source": [
    "devlop_vals = sub_df['MainBranch'].value_counts()\n",
    "(devlop_vals/df.shape[0]).plot(kind=\"bar\");\n",
    "plt.title(\"Developer kinds\");"
   ]
  },
  {
   "cell_type": "code",
   "execution_count": 22,
   "metadata": {},
   "outputs": [
    {
     "data": {
      "text/plain": [
       "Bachelor’s degree (BA, BS, B.Eng., etc.)                                              27063\n",
       "Master’s degree (MA, MS, M.Eng., MBA, etc.)                                           13826\n",
       "Some college/university study without earning a degree                                 6496\n",
       "Secondary school (e.g. American high school, German Realschule or Gymnasium, etc.)     2823\n",
       "Associate degree                                                                       1860\n",
       "Other doctoral degree (Ph.D, Ed.D., etc.)                                              1699\n",
       "Professional degree (JD, MD, etc.)                                                      745\n",
       "Primary/elementary school                                                               260\n",
       "I never completed any formal education                                                  220\n",
       "Name: EdLevel, dtype: int64"
      ]
     },
     "execution_count": 22,
     "metadata": {},
     "output_type": "execute_result"
    }
   ],
   "source": [
    "sub_df['EdLevel'].value_counts()"
   ]
  },
  {
   "cell_type": "code",
   "execution_count": 23,
   "metadata": {},
   "outputs": [],
   "source": [
    "sub_df['EdLevel'].replace({'Bachelor’s degree (BA, BS, B.Eng., etc.)' :  'Bachelor’s degree', \n",
    "                            'Master’s degree (MA, MS, M.Eng., MBA, etc.)': 'Master’s degree',\n",
    "                           'Secondary school (e.g. American high school, German Realschule or Gymnasium, etc.)': 'Secondary school',\n",
    "                           'Other doctoral degree (Ph.D, Ed.D., etc.)': 'Doctoral degree',\n",
    "                           'Professional degree (JD, MD, etc.)' : 'Professional degree'}, inplace = True)"
   ]
  },
  {
   "cell_type": "code",
   "execution_count": 24,
   "metadata": {},
   "outputs": [
    {
     "data": {
      "text/plain": [
       "Bachelor’s degree                                         27063\n",
       "Master’s degree                                           13826\n",
       "Some college/university study without earning a degree     6496\n",
       "Secondary school                                           2823\n",
       "Associate degree                                           1860\n",
       "Doctoral degree                                            1699\n",
       "Professional degree                                         745\n",
       "Primary/elementary school                                   260\n",
       "I never completed any formal education                      220\n",
       "Name: EdLevel, dtype: int64"
      ]
     },
     "execution_count": 24,
     "metadata": {},
     "output_type": "execute_result"
    }
   ],
   "source": [
    "sub_df['EdLevel'].value_counts()"
   ]
  },
  {
   "cell_type": "code",
   "execution_count": 25,
   "metadata": {},
   "outputs": [
    {
     "data": {
      "image/png": "[encoded data removed]",
      "text/plain": [
       "<Figure size 432x288 with 1 Axes>"
      ]
     },
     "metadata": {
      "needs_background": "light"
     },
     "output_type": "display_data"
    }
   ],
   "source": [
    "EdLevel_vals = sub_df['EdLevel'].value_counts()\n",
    "(EdLevel_vals/df.shape[0]).plot(kind=\"barh\");\n",
    "plt.title(\"Education Level\");"
   ]
  },
  {
   "cell_type": "code",
   "execution_count": 26,
   "metadata": {},
   "outputs": [
    {
     "data": {
      "text/plain": [
       "Computer science, computer engineering, or software engineering          32356\n",
       "Another engineering discipline (ex. civil, electrical, mechanical)        4204\n",
       "Information systems, information technology, or system administration     3460\n",
       "A natural science (ex. biology, chemistry, physics)                       2303\n",
       "Web development or web design                                             2030\n",
       "Mathematics or statistics                                                 2030\n",
       "A business discipline (ex. accounting, finance, marketing)                1154\n",
       "A humanities discipline (ex. literature, history, philosophy)             1138\n",
       "A social science (ex. anthropology, psychology, political science)         962\n",
       "Fine arts or performing arts (ex. graphic design, music, studio art)       898\n",
       "I never declared a major                                                   575\n",
       "A health science (ex. nursing, pharmacy, radiology)                        154\n",
       "Name: UndergradMajor, dtype: int64"
      ]
     },
     "execution_count": 26,
     "metadata": {},
     "output_type": "execute_result"
    }
   ],
   "source": [
    "sub_df['UndergradMajor'].value_counts()"
   ]
  },
  {
   "cell_type": "code",
   "execution_count": 27,
   "metadata": {},
   "outputs": [],
   "source": [
    "sub_df['UndergradMajor'].replace({'Another engineering discipline (ex. civil, electrical, mechanical)' :  'Another engineering discipline', \n",
    "                            'A natural science (ex. biology, chemistry, physics)': 'A natural science',\n",
    "                           'A business discipline (ex. accounting, finance, marketing)': 'A business discipline',\n",
    "                           'A humanities discipline (ex. literature, history, philosophy)': 'A humanities discipline',\n",
    "                           'A social science (ex. anthropology, psychology, political science)' : 'A social science',\n",
    "                          'Fine arts or performing arts (ex. graphic design, music, studio art)' : 'Fine arts or performing arts',\n",
    "                          'A health science (ex. nursing, pharmacy, radiology)' : 'A health science'}, inplace = True)"
   ]
  },
  {
   "cell_type": "code",
   "execution_count": 28,
   "metadata": {},
   "outputs": [
    {
     "data": {
      "image/png": "[encoded data removed]",
      "text/plain": [
       "<Figure size 432x288 with 1 Axes>"
      ]
     },
     "metadata": {
      "needs_background": "light"
     },
     "output_type": "display_data"
    }
   ],
   "source": [
    "major_vals = sub_df['UndergradMajor'].value_counts()\n",
    "(major_vals/df.shape[0]).plot(kind=\"barh\");\n",
    "plt.title(\"Undergrad Major\");"
   ]
  },
  {
   "cell_type": "code",
   "execution_count": 29,
   "metadata": {},
   "outputs": [
    {
     "data": {
      "image/png": "[encoded data removed]",
      "text/plain": [
       "<Figure size 432x288 with 1 Axes>"
      ]
     },
     "metadata": {
      "needs_background": "light"
     },
     "output_type": "display_data"
    }
   ],
   "source": [
    "plt.hist(sub_df['AnnualSalary'], bins = 30, edgecolor = 'black');"
   ]
  },
  {
   "cell_type": "code",
   "execution_count": 30,
   "metadata": {},
   "outputs": [
    {
     "data": {
      "text/plain": [
       "Very satisfied                        23257\n",
       "Slightly satisfied                    19456\n",
       "Slightly dissatisfied                  5692\n",
       "Neither satisfied nor dissatisfied     4759\n",
       "Very dissatisfied                      2659\n",
       "Name: CareerSat, dtype: int64"
      ]
     },
     "execution_count": 30,
     "metadata": {},
     "output_type": "execute_result"
    }
   ],
   "source": [
    "sub_df.CareerSat.value_counts()"
   ]
  },
  {
   "cell_type": "code",
   "execution_count": 31,
   "metadata": {},
   "outputs": [],
   "source": [
    "sub_df['CareerSat'].replace({'Very satisfied' : 4, \n",
    "                            'Slightly satisfied': 3,\n",
    "                            'Slightly dissatisfied': 2,\n",
    "                            'Neither satisfied nor dissatisfied': 1,\n",
    "                            'Very dissatisfied': 0}, inplace = True)"
   ]
  },
  {
   "cell_type": "code",
   "execution_count": 32,
   "metadata": {},
   "outputs": [
    {
     "data": {
      "text/plain": [
       "4    23257\n",
       "3    19456\n",
       "2     5692\n",
       "1     4759\n",
       "0     2659\n",
       "Name: CareerSat, dtype: int64"
      ]
     },
     "execution_count": 32,
     "metadata": {},
     "output_type": "execute_result"
    }
   ],
   "source": [
    "sub_df.CareerSat.value_counts()"
   ]
  },
  {
   "cell_type": "markdown",
   "metadata": {},
   "source": [
    "### Analyze, and Visualize"
   ]
  },
  {
   "cell_type": "markdown",
   "metadata": {},
   "source": [
    "#### Question1: How much does a developer make?"
   ]
  },
  {
   "cell_type": "code",
   "execution_count": 33,
   "metadata": {},
   "outputs": [
    {
     "data": {
      "text/plain": [
       "(127110.73842323056, 2000000.0, 57287.0)"
      ]
     },
     "execution_count": 33,
     "metadata": {},
     "output_type": "execute_result"
    }
   ],
   "source": [
    "sub_df['AnnualSalary'].mean(), sub_df['AnnualSalary'].max(), sub_df['AnnualSalary'].median()"
   ]
  },
  {
   "cell_type": "code",
   "execution_count": 34,
   "metadata": {},
   "outputs": [
    {
     "data": {
      "text/html": [
       "<div>\n",
       "<style scoped>\n",
       "    .dataframe tbody tr th:only-of-type {\n",
       "        vertical-align: middle;\n",
       "    }\n",
       "\n",
       "    .dataframe tbody tr th {\n",
       "        vertical-align: top;\n",
       "    }\n",
       "\n",
       "    .dataframe thead th {\n",
       "        text-align: right;\n",
       "    }\n",
       "</style>\n",
       "<table border=\"1\" class=\"dataframe\">\n",
       "  <thead>\n",
       "    <tr style=\"text-align: right;\">\n",
       "      <th></th>\n",
       "      <th>AnnualSalary</th>\n",
       "    </tr>\n",
       "  </thead>\n",
       "  <tbody>\n",
       "    <tr>\n",
       "      <th>count</th>\n",
       "      <td>5.582300e+04</td>\n",
       "    </tr>\n",
       "    <tr>\n",
       "      <th>mean</th>\n",
       "      <td>1.271107e+05</td>\n",
       "    </tr>\n",
       "    <tr>\n",
       "      <th>std</th>\n",
       "      <td>2.841523e+05</td>\n",
       "    </tr>\n",
       "    <tr>\n",
       "      <th>min</th>\n",
       "      <td>0.000000e+00</td>\n",
       "    </tr>\n",
       "    <tr>\n",
       "      <th>25%</th>\n",
       "      <td>2.577750e+04</td>\n",
       "    </tr>\n",
       "    <tr>\n",
       "      <th>50%</th>\n",
       "      <td>5.728700e+04</td>\n",
       "    </tr>\n",
       "    <tr>\n",
       "      <th>75%</th>\n",
       "      <td>1.000000e+05</td>\n",
       "    </tr>\n",
       "    <tr>\n",
       "      <th>max</th>\n",
       "      <td>2.000000e+06</td>\n",
       "    </tr>\n",
       "  </tbody>\n",
       "</table>\n",
       "</div>"
      ],
      "text/plain": [
       "       AnnualSalary\n",
       "count  5.582300e+04\n",
       "mean   1.271107e+05\n",
       "std    2.841523e+05\n",
       "min    0.000000e+00\n",
       "25%    2.577750e+04\n",
       "50%    5.728700e+04\n",
       "75%    1.000000e+05\n",
       "max    2.000000e+06"
      ]
     },
     "execution_count": 34,
     "metadata": {},
     "output_type": "execute_result"
    }
   ],
   "source": [
    "pd.DataFrame(sub_df['AnnualSalary'].describe())"
   ]
  },
  {
   "cell_type": "code",
   "execution_count": 35,
   "metadata": {},
   "outputs": [
    {
     "data": {
      "image/png": "[encoded data removed]",
      "text/plain": [
       "<Figure size 720x432 with 1 Axes>"
      ]
     },
     "metadata": {
      "needs_background": "light"
     },
     "output_type": "display_data"
    }
   ],
   "source": [
    "f, ax = plt.subplots(figsize=(10, 6))\n",
    "\n",
    "ax = sb.distplot(sub_df['AnnualSalary'])\n",
    "plt.xlabel('Annual Salary ($)');"
   ]
  },
  {
   "cell_type": "markdown",
   "metadata": {},
   "source": [
    "#### Question2: What is the developer salary by level of education?"
   ]
  },
  {
   "cell_type": "code",
   "execution_count": 36,
   "metadata": {},
   "outputs": [
    {
     "data": {
      "text/html": [
       "<div>\n",
       "<style scoped>\n",
       "    .dataframe tbody tr th:only-of-type {\n",
       "        vertical-align: middle;\n",
       "    }\n",
       "\n",
       "    .dataframe tbody tr th {\n",
       "        vertical-align: top;\n",
       "    }\n",
       "\n",
       "    .dataframe thead th {\n",
       "        text-align: right;\n",
       "    }\n",
       "</style>\n",
       "<table border=\"1\" class=\"dataframe\">\n",
       "  <thead>\n",
       "    <tr style=\"text-align: right;\">\n",
       "      <th></th>\n",
       "      <th>AnnualSalary</th>\n",
       "    </tr>\n",
       "    <tr>\n",
       "      <th>EdLevel</th>\n",
       "      <th></th>\n",
       "    </tr>\n",
       "  </thead>\n",
       "  <tbody>\n",
       "    <tr>\n",
       "      <th>Doctoral degree</th>\n",
       "      <td>182910.877768</td>\n",
       "    </tr>\n",
       "    <tr>\n",
       "      <th>I never completed any formal education</th>\n",
       "      <td>149399.673267</td>\n",
       "    </tr>\n",
       "    <tr>\n",
       "      <th>Associate degree</th>\n",
       "      <td>144764.033077</td>\n",
       "    </tr>\n",
       "    <tr>\n",
       "      <th>Bachelor’s degree</th>\n",
       "      <td>134980.777222</td>\n",
       "    </tr>\n",
       "    <tr>\n",
       "      <th>Master’s degree</th>\n",
       "      <td>120875.909584</td>\n",
       "    </tr>\n",
       "    <tr>\n",
       "      <th>Some college/university study without earning a degree</th>\n",
       "      <td>116971.984060</td>\n",
       "    </tr>\n",
       "    <tr>\n",
       "      <th>Primary/elementary school</th>\n",
       "      <td>95271.360000</td>\n",
       "    </tr>\n",
       "    <tr>\n",
       "      <th>Professional degree</th>\n",
       "      <td>84585.213752</td>\n",
       "    </tr>\n",
       "    <tr>\n",
       "      <th>Secondary school</th>\n",
       "      <td>84052.489780</td>\n",
       "    </tr>\n",
       "  </tbody>\n",
       "</table>\n",
       "</div>"
      ],
      "text/plain": [
       "                                                     AnnualSalary\n",
       "EdLevel                                                          \n",
       "Doctoral degree                                     182910.877768\n",
       "I never completed any formal education              149399.673267\n",
       "Associate degree                                    144764.033077\n",
       "Bachelor’s degree                                   134980.777222\n",
       "Master’s degree                                     120875.909584\n",
       "Some college/university study without earning a...  116971.984060\n",
       "Primary/elementary school                            95271.360000\n",
       "Professional degree                                  84585.213752\n",
       "Secondary school                                     84052.489780"
      ]
     },
     "execution_count": 36,
     "metadata": {},
     "output_type": "execute_result"
    }
   ],
   "source": [
    "pd.DataFrame(sub_df.query(\"MainBranch == 'Developer' \").groupby(['EdLevel']).mean()['AnnualSalary']).sort_values(by = 'AnnualSalary', ascending=False)"
   ]
  },
  {
   "cell_type": "code",
   "execution_count": 37,
   "metadata": {},
   "outputs": [
    {
     "data": {
      "image/png": "[encoded data removed]",
      "text/plain": [
       "<Figure size 432x288 with 1 Axes>"
      ]
     },
     "metadata": {
      "needs_background": "light"
     },
     "output_type": "display_data"
    }
   ],
   "source": [
    "base_color = sb.color_palette()[0]\n",
    "edlevel = (sub_df.query(\"MainBranch == 'Developer' \").groupby(['EdLevel']).mean()['AnnualSalary']).sort_values(ascending=False).head()\n",
    "edlevel.plot(kind = 'barh', color = base_color );\n",
    "plt.ylabel(' ')\n",
    "plt.xlabel('Annual Salary ($)');"
   ]
  },
  {
   "cell_type": "markdown",
   "metadata": {},
   "source": [
    "#### Question4:Which country has the highest devloper salary?"
   ]
  },
  {
   "cell_type": "code",
   "execution_count": 38,
   "metadata": {},
   "outputs": [
    {
     "data": {
      "text/html": [
       "<div>\n",
       "<style scoped>\n",
       "    .dataframe tbody tr th:only-of-type {\n",
       "        vertical-align: middle;\n",
       "    }\n",
       "\n",
       "    .dataframe tbody tr th {\n",
       "        vertical-align: top;\n",
       "    }\n",
       "\n",
       "    .dataframe thead th {\n",
       "        text-align: right;\n",
       "    }\n",
       "</style>\n",
       "<table border=\"1\" class=\"dataframe\">\n",
       "  <thead>\n",
       "    <tr style=\"text-align: right;\">\n",
       "      <th></th>\n",
       "      <th>AnnualSalary</th>\n",
       "    </tr>\n",
       "    <tr>\n",
       "      <th>Country</th>\n",
       "      <th></th>\n",
       "    </tr>\n",
       "  </thead>\n",
       "  <tbody>\n",
       "    <tr>\n",
       "      <th>Liechtenstein</th>\n",
       "      <td>811188.00000</td>\n",
       "    </tr>\n",
       "    <tr>\n",
       "      <th>San Marino</th>\n",
       "      <td>577452.00000</td>\n",
       "    </tr>\n",
       "    <tr>\n",
       "      <th>United States</th>\n",
       "      <td>251783.92000</td>\n",
       "    </tr>\n",
       "    <tr>\n",
       "      <th>Ireland</th>\n",
       "      <td>247802.42671</td>\n",
       "    </tr>\n",
       "    <tr>\n",
       "      <th>Swaziland</th>\n",
       "      <td>242607.50000</td>\n",
       "    </tr>\n",
       "  </tbody>\n",
       "</table>\n",
       "</div>"
      ],
      "text/plain": [
       "               AnnualSalary\n",
       "Country                    \n",
       "Liechtenstein  811188.00000\n",
       "San Marino     577452.00000\n",
       "United States  251783.92000\n",
       "Ireland        247802.42671\n",
       "Swaziland      242607.50000"
      ]
     },
     "execution_count": 38,
     "metadata": {},
     "output_type": "execute_result"
    }
   ],
   "source": [
    "pd.DataFrame(sub_df.query(\"MainBranch == 'Developer' \").groupby(['Country']).mean()['AnnualSalary']).sort_values(by = 'AnnualSalary', ascending=False).head()"
   ]
  },
  {
   "cell_type": "code",
   "execution_count": 39,
   "metadata": {},
   "outputs": [
    {
     "data": {
      "image/png": "[encoded data removed]",
      "text/plain": [
       "<Figure size 432x288 with 1 Axes>"
      ]
     },
     "metadata": {
      "needs_background": "light"
     },
     "output_type": "display_data"
    }
   ],
   "source": [
    "base_color = sb.color_palette()[0]\n",
    "paid_countries = (sub_df.query(\"MainBranch == 'Developer' \").groupby(['Country']).mean()['AnnualSalary']).sort_values(ascending=False).head()\n",
    "paid_countries.plot(kind = 'barh', color = base_color );\n",
    "plt.ylabel(' ')\n",
    "plt.xlabel('Annual Salary ($)');"
   ]
  },
  {
   "cell_type": "markdown",
   "metadata": {},
   "source": [
    "#### Question4:Which country has the highest job satisfaction?"
   ]
  },
  {
   "cell_type": "code",
   "execution_count": 40,
   "metadata": {},
   "outputs": [
    {
     "data": {
      "text/plain": [
       "Country\n",
       "Somalia                             4.000000\n",
       "Oman                                4.000000\n",
       "Barbados                            4.000000\n",
       "San Marino                          4.000000\n",
       "Democratic Republic of the Congo    4.000000\n",
       "Yemen                               3.666667\n",
       "Haiti                               3.500000\n",
       "Zambia                              3.400000\n",
       "Mozambique                          3.333333\n",
       "Qatar                               3.333333\n",
       "Name: CareerSat, dtype: float64"
      ]
     },
     "execution_count": 40,
     "metadata": {},
     "output_type": "execute_result"
    }
   ],
   "source": [
    "(sub_df.query(\"MainBranch == 'Developer' \").groupby(['Country'])['CareerSat']).mean().sort_values(ascending=False).head(10)"
   ]
  },
  {
   "cell_type": "markdown",
   "metadata": {},
   "source": [
    "#### Question5: What is the average salary for devlopers in  KSA?"
   ]
  },
  {
   "cell_type": "code",
   "execution_count": 41,
   "metadata": {},
   "outputs": [
    {
     "data": {
      "image/png": "[encoded data removed]",
      "text/plain": [
       "<Figure size 432x288 with 1 Axes>"
      ]
     },
     "metadata": {
      "needs_background": "light"
     },
     "output_type": "display_data"
    }
   ],
   "source": [
    "base_color = sb.color_palette()[0]\n",
    "KSA_sal = (sub_df.query(\"MainBranch == 'Developer' and ( Country == 'Saudi Arabia')\").groupby([ 'UndergradMajor']).mean()['AnnualSalary']).sort_values()\n",
    "KSA_sal.plot(kind = 'barh', color = base_color)\n",
    "plt.ylabel(' ')\n",
    "plt.xlabel('Annual Salary ($)');"
   ]
  }
 ],
 "metadata": {
  "kernelspec": {
   "display_name": "Python 3",
   "language": "python",
   "name": "python3"
  },
  "language_info": {
   "codemirror_mode": {
    "name": "ipython",
    "version": 3
   },
   "file_extension": ".py",
   "mimetype": "text/x-python",
   "name": "python",
   "nbconvert_exporter": "python",
   "pygments_lexer": "ipython3",
   "version": "3.7.1"
  }
 },
 "nbformat": 4,
 "nbformat_minor": 2
}
